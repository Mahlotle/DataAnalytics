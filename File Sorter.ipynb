{
 "cells": [
  {
   "cell_type": "markdown",
   "id": "3538b260-2852-4495-b689-932970c05e14",
   "metadata": {},
   "source": [
    "AUTOMATIC FILE SORTER"
   ]
  },
  {
   "cell_type": "code",
   "execution_count": 9,
   "id": "054bd32a-f003-452f-bcaf-f74cedd87f4c",
   "metadata": {},
   "outputs": [],
   "source": [
    "import os, shutil"
   ]
  },
  {
   "cell_type": "code",
   "execution_count": 10,
   "id": "bcd4f0e3-ed93-4579-b8e8-2b5447dfe0fb",
   "metadata": {},
   "outputs": [],
   "source": [
    "path = r\"C:/Users/masem/OneDrive/Desktop/Alex_the_analyst/file_sorter/\""
   ]
  },
  {
   "cell_type": "code",
   "execution_count": 11,
   "id": "5e6c2543-4612-44dc-a94a-86e77954ee50",
   "metadata": {},
   "outputs": [],
   "source": [
    "file_name = os.listdir(path)"
   ]
  },
  {
   "cell_type": "markdown",
   "id": "b10b6f3c-7ce8-4f3d-bc38-bcdec638cac9",
   "metadata": {},
   "source": [
    "CREATING FILE DIRECTORIES IF THEY DONT ALREADY EXIST"
   ]
  },
  {
   "cell_type": "code",
   "execution_count": 13,
   "id": "6d5648ce-52ef-4998-87c5-fe0ed2fffeb3",
   "metadata": {},
   "outputs": [],
   "source": [
    "folder_names = ['csv files', 'Image files', 'Jupyter files', 'Excel files']\n",
    "\n",
    "# create folders\n",
    "for folder in folder_names:\n",
    "    if not os.path.exists(path + folder):\n",
    "        print(path + folder)\n",
    "        os.makedirs(path + folder)\n",
    "\n",
    "\n"
   ]
  },
  {
   "cell_type": "markdown",
   "id": "610f4456-6241-40ae-be41-86f4a6801617",
   "metadata": {},
   "source": [
    "MOVING FILES INTO RESPECTIVE FOLDERS"
   ]
  },
  {
   "cell_type": "code",
   "execution_count": 15,
   "id": "39ec1b9b-18a5-4eab-b59f-9031136928fc",
   "metadata": {},
   "outputs": [
    {
     "name": "stdout",
     "output_type": "stream",
     "text": [
      "Files not Moved...\n",
      "Files not Moved...\n",
      "Files not Moved...\n",
      "Files not Moved...\n",
      "Files not Moved...\n",
      "Files not Moved...\n",
      "Files not Moved...\n",
      "Files not Moved...\n",
      "Files not Moved...\n",
      "Files not Moved...\n",
      "Files not Moved...\n",
      "Files not Moved...\n",
      "Files not Moved...\n",
      "Files not Moved...\n",
      "Files not Moved...\n",
      "Files not Moved...\n",
      "Files not Moved...\n"
     ]
    }
   ],
   "source": [
    "for file in file_name:\n",
    "    if \".csv\" in file and not os.path.exists(path + \"csv files/\" + file):\n",
    "        shutil.move(path + file, path + \"csv files/\" + file)\n",
    "        \n",
    "    elif \".png\" in file and not os.path.exists(path + \"Image files/\" + file):\n",
    "        shutil.move(path + file, path + \"Image files/\" + file)\n",
    "        \n",
    "    elif \".xlsx\" in file and not os.path.exists(path + \"Excel files/\" + file):\n",
    "        shutil.move(path + file, path + \"Excel files/\" + file)\n",
    "        \n",
    "    elif \".ipynb\" in file and not os.path.exists(path + \"Jupyter files/\" + file):\n",
    "        shutil.move(path + file, path + \"Jupyter files/\" + file)\n",
    "        \n",
    "    else: \n",
    "        print(\"Files not Moved...\")"
   ]
  },
  {
   "cell_type": "code",
   "execution_count": null,
   "id": "1a067fea-2acd-4a0b-b80f-b29fc7f41e19",
   "metadata": {},
   "outputs": [],
   "source": []
  },
  {
   "cell_type": "code",
   "execution_count": null,
   "id": "8b3f8360-532a-4df8-aec4-90a5c3da622b",
   "metadata": {},
   "outputs": [],
   "source": []
  },
  {
   "cell_type": "code",
   "execution_count": null,
   "id": "b1f7c60d-08a5-4338-93a6-f108c2f2acdc",
   "metadata": {},
   "outputs": [],
   "source": []
  }
 ],
 "metadata": {
  "kernelspec": {
   "display_name": "base",
   "language": "python",
   "name": "python3"
  },
  "language_info": {
   "codemirror_mode": {
    "name": "ipython",
    "version": 3
   },
   "file_extension": ".py",
   "mimetype": "text/x-python",
   "name": "python",
   "nbconvert_exporter": "python",
   "pygments_lexer": "ipython3",
   "version": "3.13.5"
  }
 },
 "nbformat": 4,
 "nbformat_minor": 5
}
