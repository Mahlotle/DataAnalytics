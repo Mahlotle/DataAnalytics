{
 "cells": [
  {
   "cell_type": "markdown",
   "id": "004549eb-2726-440f-a60a-276dc276d2c4",
   "metadata": {},
   "source": [
    "BMI CALCULATOR"
   ]
  },
  {
   "cell_type": "code",
   "execution_count": null,
   "id": "aa1652f5-068f-4869-850c-6db9a299daae",
   "metadata": {},
   "outputs": [],
   "source": [
    "#BMI = ( weight (kg) )/(height(m) X height(m)) "
   ]
  },
  {
   "cell_type": "code",
   "execution_count": 7,
   "id": "cd429af3-e8f6-4d8d-bae0-91df59b0ea56",
   "metadata": {},
   "outputs": [
    {
     "name": "stdin",
     "output_type": "stream",
     "text": [
      "Enter your weight in kg: 70\n",
      "Enter your height in meters: 1.75\n"
     ]
    }
   ],
   "source": [
    "weight = int( input(\"Enter your weight in kg:\"))\n",
    "height = int (input(\"Enter your height in meters:\"))\n",
    "BMI = (weight) / (height * height)"
   ]
  },
  {
   "cell_type": "code",
   "execution_count": 11,
   "id": "e6e4e8d8-5edd-4cbc-8565-1b660ef5ad4a",
   "metadata": {},
   "outputs": [
    {
     "name": "stdout",
     "output_type": "stream",
     "text": [
      "Your body mass index is : 22.857142857142858\n"
     ]
    }
   ],
   "source": [
    "print( \"Your body mass index is : \" + str(BMI))"
   ]
  },
  {
   "cell_type": "code",
   "execution_count": 13,
   "id": "42ab7ab3-00fc-4822-8a3e-6b24e08a9862",
   "metadata": {},
   "outputs": [
    {
     "name": "stdout",
     "output_type": "stream",
     "text": [
      " You are Normal Weight\n"
     ]
    }
   ],
   "source": [
    "if BMI < 18.5:\n",
    "    print(\" You are Underweight\")\n",
    "elif 18.5 <= BMI < 25: \n",
    "    print(\" You are Normal Weight\")\n",
    "elif 25 <=  BMI < 30: \n",
    "    print(\" You are OverWeight\")\n",
    "elif BMI > 30: \n",
    "    print(\" You are Obese\")\n",
    "else:\n",
    "    print (\"Enter Valid Inputs\")"
   ]
  },
  {
   "cell_type": "code",
   "execution_count": null,
   "id": "2d4473bc-2258-4393-932d-0356021931d8",
   "metadata": {},
   "outputs": [],
   "source": []
  }
 ],
 "metadata": {
  "kernelspec": {
   "display_name": "anaconda-panel-2023.05-py310",
   "language": "python",
   "name": "conda-env-anaconda-panel-2023.05-py310-py"
  },
  "language_info": {
   "codemirror_mode": {
    "name": "ipython",
    "version": 3
   },
   "file_extension": ".py",
   "mimetype": "text/x-python",
   "name": "python",
   "nbconvert_exporter": "python",
   "pygments_lexer": "ipython3",
   "version": "3.11.5"
  }
 },
 "nbformat": 4,
 "nbformat_minor": 5
}
