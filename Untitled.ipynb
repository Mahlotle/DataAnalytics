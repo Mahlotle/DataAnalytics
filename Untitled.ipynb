{
 "cells": [
  {
   "cell_type": "markdown",
   "id": "da287de0-a4cd-41b7-bc74-eb6494c17cf0",
   "metadata": {},
   "source": [
    "FUNCTIONS"
   ]
  },
  {
   "cell_type": "code",
   "execution_count": 3,
   "id": "fee2420a-f402-4562-9361-53e9212700e7",
   "metadata": {},
   "outputs": [],
   "source": [
    "def function():\n",
    "    print (\"My First Function\")"
   ]
  },
  {
   "cell_type": "code",
   "execution_count": 4,
   "id": "a5b8e38d-b157-426f-be74-ec1105b6a8d8",
   "metadata": {},
   "outputs": [
    {
     "name": "stdout",
     "output_type": "stream",
     "text": [
      "My First Function\n"
     ]
    }
   ],
   "source": [
    "function()"
   ]
  },
  {
   "cell_type": "code",
   "execution_count": null,
   "id": "4d837c38-e609-459b-a38a-8efbaa5b1ab9",
   "metadata": {},
   "outputs": [],
   "source": []
  },
  {
   "cell_type": "code",
   "execution_count": 5,
   "id": "cd4b1784-f4e7-4dd9-a594-c33bf76602a5",
   "metadata": {},
   "outputs": [],
   "source": [
    "def squared_num(num):\n",
    "    print(num**2)"
   ]
  },
  {
   "cell_type": "code",
   "execution_count": 9,
   "id": "7ed25bfb-ef43-469b-97c4-74d7b4f0fc8f",
   "metadata": {},
   "outputs": [
    {
     "name": "stdout",
     "output_type": "stream",
     "text": [
      "25\n"
     ]
    }
   ],
   "source": [
    "num=5\n",
    "squared_num(num)"
   ]
  },
  {
   "cell_type": "code",
   "execution_count": 14,
   "id": "c83ae109-8c99-403f-9c36-ef612d39569f",
   "metadata": {},
   "outputs": [],
   "source": [
    "def squared_num_cust(num,power):\n",
    "    print(num**power)"
   ]
  },
  {
   "cell_type": "code",
   "execution_count": 16,
   "id": "e6301ed8-c4cf-4086-a6ca-81df095174c4",
   "metadata": {},
   "outputs": [
    {
     "name": "stdout",
     "output_type": "stream",
     "text": [
      "125\n"
     ]
    }
   ],
   "source": [
    "num=5\n",
    "power=3\n",
    "squared_num_cust(num,power)"
   ]
  },
  {
   "cell_type": "markdown",
   "id": "3a0c6840-5c53-4403-a0d7-07f270978d48",
   "metadata": {},
   "source": [
    "ARBITRARY ARGUMENTS"
   ]
  },
  {
   "cell_type": "code",
   "execution_count": 17,
   "id": "28ddcc44-f973-4be2-8d93-52e8a52c94f5",
   "metadata": {},
   "outputs": [],
   "source": [
    "args_tuple =(2,5,9,7,8)\n",
    "def num_args(*num):\n",
    "    print (num[0]*num[1])"
   ]
  },
  {
   "cell_type": "code",
   "execution_count": 18,
   "id": "c14fc532-b512-4d34-9ce4-4a18eeb1bd5e",
   "metadata": {},
   "outputs": [
    {
     "name": "stdout",
     "output_type": "stream",
     "text": [
      "10\n"
     ]
    }
   ],
   "source": [
    "num_args(*args_tuple)"
   ]
  },
  {
   "cell_type": "markdown",
   "id": "e8244049-93e6-40d7-90b2-6117b30f5a27",
   "metadata": {},
   "source": [
    "KEYWORD ARGUMENT"
   ]
  },
  {
   "cell_type": "code",
   "execution_count": 19,
   "id": "0d9dc30a-cb5a-4ebc-936c-8b49a5423361",
   "metadata": {},
   "outputs": [],
   "source": [
    "def squared_num_cust(num,power):\n",
    "    print(num**power)"
   ]
  },
  {
   "cell_type": "code",
   "execution_count": 21,
   "id": "ec700715-f3cb-43c4-8591-bb42b4f4c1ba",
   "metadata": {},
   "outputs": [
    {
     "name": "stdout",
     "output_type": "stream",
     "text": [
      "125\n"
     ]
    }
   ],
   "source": [
    "squared_num_cust(num=5,power=3)"
   ]
  },
  {
   "cell_type": "markdown",
   "id": "351ac245-cdd3-4e34-b5a2-a77eb7fa4f9a",
   "metadata": {},
   "source": [
    "Arbitrary Keyword Arguments"
   ]
  },
  {
   "cell_type": "code",
   "execution_count": 25,
   "id": "90803317-39f7-40cb-9bb7-6a7ca6cae363",
   "metadata": {},
   "outputs": [],
   "source": [
    "def num_kwarg(**num):\n",
    "  print('My number = ' + num['integer']  + ' My other number = ' + num['integer2']) "
   ]
  },
  {
   "cell_type": "code",
   "execution_count": 26,
   "id": "fe2d61c3-fa57-4c8a-9956-c8b159bff995",
   "metadata": {},
   "outputs": [
    {
     "name": "stdout",
     "output_type": "stream",
     "text": [
      "My number = 1999 My other number = 2000\n"
     ]
    }
   ],
   "source": [
    "num_kwarg(integer = '1999' , integer2 = '2000')"
   ]
  },
  {
   "cell_type": "code",
   "execution_count": null,
   "id": "27a8ed8d-65ca-46ca-8bb7-33c443b27ba8",
   "metadata": {},
   "outputs": [],
   "source": []
  },
  {
   "cell_type": "code",
   "execution_count": null,
   "id": "4c33e5c1-fa22-4629-8ef5-1d6f9a8435ce",
   "metadata": {},
   "outputs": [],
   "source": []
  },
  {
   "cell_type": "markdown",
   "id": "c8466751-2c81-4f68-859f-99849e46be56",
   "metadata": {},
   "source": [
    "CONVERTING DATA TYPES IN PYTHON"
   ]
  },
  {
   "cell_type": "code",
   "execution_count": 27,
   "id": "43a9184a-2647-4418-8103-61df3f54f455",
   "metadata": {},
   "outputs": [
    {
     "data": {
      "text/plain": [
       "int"
      ]
     },
     "execution_count": 27,
     "metadata": {},
     "output_type": "execute_result"
    }
   ],
   "source": [
    "num_int = 10\n",
    "type(num_int)"
   ]
  },
  {
   "cell_type": "code",
   "execution_count": 29,
   "id": "8c764bf3-9f3c-4e6f-b71f-40ccdd66ed8c",
   "metadata": {},
   "outputs": [
    {
     "data": {
      "text/plain": [
       "str"
      ]
     },
     "execution_count": 29,
     "metadata": {},
     "output_type": "execute_result"
    }
   ],
   "source": [
    "num_str = '10'\n",
    "type(num_str)"
   ]
  },
  {
   "cell_type": "code",
   "execution_count": 31,
   "id": "64f680fa-25c1-4b71-8d4e-bf2a7656e64e",
   "metadata": {},
   "outputs": [
    {
     "data": {
      "text/plain": [
       "int"
      ]
     },
     "execution_count": 31,
     "metadata": {},
     "output_type": "execute_result"
    }
   ],
   "source": [
    "num_str_conveted_to_num_int = int(num_str)\n",
    "type(num_str_conveted_to_num_int)"
   ]
  },
  {
   "cell_type": "code",
   "execution_count": 32,
   "id": "66c62abf-9b70-41ee-bc28-dd1273253ae7",
   "metadata": {},
   "outputs": [
    {
     "name": "stdout",
     "output_type": "stream",
     "text": [
      "20\n"
     ]
    }
   ],
   "source": [
    "num_sum = num_int  + num_str_conveted_to_num_int\n",
    "print(num_sum)"
   ]
  },
  {
   "cell_type": "markdown",
   "id": "bfd21ff4-8e8a-4707-9aa4-c81deb128b87",
   "metadata": {},
   "source": [
    "CONVERTING LISTS,SETS & TUPLES"
   ]
  },
  {
   "cell_type": "code",
   "execution_count": 33,
   "id": "3378b2d1-f20b-4180-84fe-24c39d446dba",
   "metadata": {},
   "outputs": [
    {
     "data": {
      "text/plain": [
       "list"
      ]
     },
     "execution_count": 33,
     "metadata": {},
     "output_type": "execute_result"
    }
   ],
   "source": [
    "list_type = [1,2,3,4]\n",
    "type(list_type)"
   ]
  },
  {
   "cell_type": "code",
   "execution_count": 36,
   "id": "c3e225f0-2de6-40d6-9277-28449abd51c5",
   "metadata": {},
   "outputs": [
    {
     "data": {
      "text/plain": [
       "tuple"
      ]
     },
     "execution_count": 36,
     "metadata": {},
     "output_type": "execute_result"
    }
   ],
   "source": [
    "type(tuple(list_type))\n"
   ]
  },
  {
   "cell_type": "code",
   "execution_count": 38,
   "id": "87c9eab4-536d-419c-bec5-ecabbd32ec01",
   "metadata": {},
   "outputs": [],
   "source": [
    "list_type = [5,8,6,5,5,4,8,6,1,5,3,6,9,4,5]"
   ]
  },
  {
   "cell_type": "code",
   "execution_count": 39,
   "id": "6d963e7e-df48-40c2-8d67-a402f364cd06",
   "metadata": {},
   "outputs": [
    {
     "data": {
      "text/plain": [
       "{1, 3, 4, 5, 6, 8, 9}"
      ]
     },
     "execution_count": 39,
     "metadata": {},
     "output_type": "execute_result"
    }
   ],
   "source": [
    "set(list_type)"
   ]
  },
  {
   "cell_type": "code",
   "execution_count": 40,
   "id": "bfafdf5e-9502-4801-b5d1-dee437311445",
   "metadata": {},
   "outputs": [
    {
     "data": {
      "text/plain": [
       "set"
      ]
     },
     "execution_count": 40,
     "metadata": {},
     "output_type": "execute_result"
    }
   ],
   "source": [
    "type(set(list_type))"
   ]
  },
  {
   "cell_type": "code",
   "execution_count": 44,
   "id": "af9478fb-c138-4e8e-814d-b137cb71b46a",
   "metadata": {},
   "outputs": [
    {
     "data": {
      "text/plain": [
       "dict"
      ]
     },
     "execution_count": 44,
     "metadata": {},
     "output_type": "execute_result"
    }
   ],
   "source": [
    "dict_type = {'name': 'Mav', 'age': 26 , 'hair': 'black'}\n",
    "type(dict_type)"
   ]
  },
  {
   "cell_type": "code",
   "execution_count": 45,
   "id": "5661343f-9c24-48e6-b2c7-dc314b589ea1",
   "metadata": {},
   "outputs": [
    {
     "data": {
      "text/plain": [
       "dict_items([('name', 'Mav'), ('age', 26), ('hair', 'black')])"
      ]
     },
     "execution_count": 45,
     "metadata": {},
     "output_type": "execute_result"
    }
   ],
   "source": [
    "dict_type.items()"
   ]
  },
  {
   "cell_type": "code",
   "execution_count": 46,
   "id": "43f28b20-2a9b-4497-8684-c1d1409122fc",
   "metadata": {},
   "outputs": [
    {
     "data": {
      "text/plain": [
       "dict_values(['Mav', 26, 'black'])"
      ]
     },
     "execution_count": 46,
     "metadata": {},
     "output_type": "execute_result"
    }
   ],
   "source": [
    "dict_type.values()"
   ]
  },
  {
   "cell_type": "code",
   "execution_count": 47,
   "id": "e0326fcb-9809-4a55-8f99-6c7780781367",
   "metadata": {},
   "outputs": [
    {
     "data": {
      "text/plain": [
       "dict_keys(['name', 'age', 'hair'])"
      ]
     },
     "execution_count": 47,
     "metadata": {},
     "output_type": "execute_result"
    }
   ],
   "source": [
    "dict_type.keys()"
   ]
  },
  {
   "cell_type": "code",
   "execution_count": 49,
   "id": "7cc38482-d85b-45ff-bc49-7e010be6682f",
   "metadata": {},
   "outputs": [
    {
     "data": {
      "text/plain": [
       "['name', 'age', 'hair']"
      ]
     },
     "execution_count": 49,
     "metadata": {},
     "output_type": "execute_result"
    }
   ],
   "source": [
    "list(dict_type.keys())"
   ]
  },
  {
   "cell_type": "code",
   "execution_count": 50,
   "id": "6e9f1887-4b49-40cd-843c-949f1454f255",
   "metadata": {},
   "outputs": [
    {
     "data": {
      "text/plain": [
       "list"
      ]
     },
     "execution_count": 50,
     "metadata": {},
     "output_type": "execute_result"
    }
   ],
   "source": [
    "type(list(dict_type.keys()))"
   ]
  },
  {
   "cell_type": "code",
   "execution_count": 52,
   "id": "5e63fde5-8390-435c-ab42-db643ce3603c",
   "metadata": {},
   "outputs": [
    {
     "data": {
      "text/plain": [
       "['i', ' ', 'n', 'e', 'e', 'd', ' ', 'a', ' ', 'j', 'o', 'b']"
      ]
     },
     "execution_count": 52,
     "metadata": {},
     "output_type": "execute_result"
    }
   ],
   "source": [
    "long_str = \"i need a job\"\n",
    "list(long_str)"
   ]
  },
  {
   "cell_type": "code",
   "execution_count": null,
   "id": "811fc725-d9c6-421b-b51d-03af779b36a5",
   "metadata": {},
   "outputs": [],
   "source": []
  }
 ],
 "metadata": {
  "kernelspec": {
   "display_name": "anaconda-panel-2023.05-py310",
   "language": "python",
   "name": "conda-env-anaconda-panel-2023.05-py310-py"
  },
  "language_info": {
   "codemirror_mode": {
    "name": "ipython",
    "version": 3
   },
   "file_extension": ".py",
   "mimetype": "text/x-python",
   "name": "python",
   "nbconvert_exporter": "python",
   "pygments_lexer": "ipython3",
   "version": "3.11.5"
  }
 },
 "nbformat": 4,
 "nbformat_minor": 5
}
